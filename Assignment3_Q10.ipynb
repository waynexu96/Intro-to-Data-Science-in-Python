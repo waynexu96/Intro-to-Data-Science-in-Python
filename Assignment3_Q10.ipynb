{
 "cells": [
  {
   "cell_type": "code",
   "execution_count": null,
   "metadata": {},
   "outputs": [],
   "source": [
    "'''\n",
    "Question 10 (6.6%)\n",
    "Create a new column with a 1 if the country's % Renewable value is at or above the median for all countries in the top 15, and a 0 if the country's % Renewable value is below the median.\n",
    "\n",
    "This function should return a series named HighRenew whose index is the country name sorted in ascending order of rank.\n",
    "'''\n",
    "\n",
    "def answer_ten():\n",
    "    Top15 = answer_one()\n",
    "    median=np.median(Top15['% Renewable'])\n",
    "    idxnum=0\n",
    "    Top15['HighRenew']=0\n",
    "    for num in Top15['% Renewable']:\n",
    "        if num>=median:\n",
    "            Top15['HighRenew'][idxnum]=1\n",
    "        else:\n",
    "            Top15['HighRenew'][idxnum]=0\n",
    "        idxnum+=1\n",
    "    \n",
    "    return Top15['HighRenew']\n",
    "answer_ten()"
   ]
  }
 ],
 "metadata": {
  "kernelspec": {
   "display_name": "Python 3",
   "language": "python",
   "name": "python3"
  },
  "language_info": {
   "codemirror_mode": {
    "name": "ipython",
    "version": 3
   },
   "file_extension": ".py",
   "mimetype": "text/x-python",
   "name": "python",
   "nbconvert_exporter": "python",
   "pygments_lexer": "ipython3",
   "version": "3.7.1"
  }
 },
 "nbformat": 4,
 "nbformat_minor": 2
}
