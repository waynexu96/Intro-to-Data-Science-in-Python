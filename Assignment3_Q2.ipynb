{
 "cells": [
  {
   "cell_type": "code",
   "execution_count": null,
   "metadata": {},
   "outputs": [],
   "source": [
    "'''\n",
    "Question 2\n",
    "The previous question joined three datasets then reduced this to just the top 15 entries. When you joined the datasets, but before you reduced this to the top 15 items, how many entries did you lose?\n",
    "\n",
    "This function should return a single number.\n",
    "'''\n",
    "\n",
    "def answer_two():\n",
    "    energy=getEnergy()\n",
    "    GDP=getGDP()\n",
    "    ScimEn=getScimEn()\n",
    "    \n",
    "    sizeOfEnergy=len(energy.index)\n",
    "    sizeOfGDP=len(GDP.index)\n",
    "    sizeOfScimEn=len(ScimEn.index)\n",
    "\n",
    "    sizeOfIntersectionEG=len(pd.merge(energy,GDP,how='inner',left_on='Country',right_on='Country Name').index)\n",
    "    sizeOfIntersectionES=len(pd.merge(energy,ScimEn,how='inner',left_on='Country',right_on='Country').index)\n",
    "    sizeOfIntersectionGS=len(pd.merge(GDP,ScimEn,how='inner',left_on='Country Name',right_on='Country').index)\n",
    "\n",
    "    sizeOfIntersectionEGS=len(pd.merge(intersectionEG,ScimEn,how='inner',left_on='Country',right_on='Country').index)\n",
    "\n",
    "    entriesLost=sizeOfEnergy+sizeOfGDP+sizeOfScimEn-sizeOfIntersectionEG-sizeOfIntersectionES-sizeOfIntersectionGS+sizeOfIntersectionEGS\n",
    "\n",
    "    return entriesLost\n",
    "answer_two()"
   ]
  }
 ],
 "metadata": {
  "kernelspec": {
   "display_name": "Python 3",
   "language": "python",
   "name": "python3"
  },
  "language_info": {
   "codemirror_mode": {
    "name": "ipython",
    "version": 3
   },
   "file_extension": ".py",
   "mimetype": "text/x-python",
   "name": "python",
   "nbconvert_exporter": "python",
   "pygments_lexer": "ipython3",
   "version": "3.7.1"
  }
 },
 "nbformat": 4,
 "nbformat_minor": 2
}
