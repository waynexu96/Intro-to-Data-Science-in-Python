{
 "cells": [
  {
   "cell_type": "code",
   "execution_count": null,
   "metadata": {},
   "outputs": [],
   "source": [
    "'''\n",
    "Question 3\n",
    "What is the average GDP over the last 10 years for each country? (exclude missing values from this calculation.)\n",
    "\n",
    "This function should return a Series named avgGDP with 15 countries and their average GDP sorted in descending order.\n",
    "'''\n",
    "\n",
    "def avg(row):    \n",
    "    data=row[['2006','2007','2008','2009','2010','2011','2012','2013','2014','2015']]\n",
    "    return np.nanmean(data)\n",
    "\n",
    "def answer_three():\n",
    "    Top15 = answer_one()\n",
    "    avgGDP=Top15.apply(avg,axis=1)\n",
    "    avgGDP=avgGDP.sort_values(ascending=False)\n",
    "    return avgGDP\n",
    "answer_three()"
   ]
  }
 ],
 "metadata": {
  "kernelspec": {
   "display_name": "Python 3",
   "language": "python",
   "name": "python3"
  },
  "language_info": {
   "codemirror_mode": {
    "name": "ipython",
    "version": 3
   },
   "file_extension": ".py",
   "mimetype": "text/x-python",
   "name": "python",
   "nbconvert_exporter": "python",
   "pygments_lexer": "ipython3",
   "version": "3.7.1"
  }
 },
 "nbformat": 4,
 "nbformat_minor": 2
}
