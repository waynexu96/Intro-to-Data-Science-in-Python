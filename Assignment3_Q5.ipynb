{
 "cells": [
  {
   "cell_type": "code",
   "execution_count": null,
   "metadata": {},
   "outputs": [],
   "source": [
    "'''\n",
    "Question 5\n",
    "What is the mean Energy Supply per Capita?\n",
    "\n",
    "This function should return a single number.\n",
    "'''\n",
    "\n",
    "def answer_five():\n",
    "    Top15 = answer_one()\n",
    "    return np.average(Top15['Energy Supply per Capita'])\n",
    "answer_five()"
   ]
  }
 ],
 "metadata": {
  "kernelspec": {
   "display_name": "Python 3",
   "language": "python",
   "name": "python3"
  },
  "language_info": {
   "codemirror_mode": {
    "name": "ipython",
    "version": 3
   },
   "file_extension": ".py",
   "mimetype": "text/x-python",
   "name": "python",
   "nbconvert_exporter": "python",
   "pygments_lexer": "ipython3",
   "version": "3.7.1"
  }
 },
 "nbformat": 4,
 "nbformat_minor": 2
}
