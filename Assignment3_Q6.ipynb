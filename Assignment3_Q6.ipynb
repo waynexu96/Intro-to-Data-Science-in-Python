{
 "cells": [
  {
   "cell_type": "code",
   "execution_count": null,
   "metadata": {},
   "outputs": [],
   "source": [
    "'''\n",
    "Question 6\n",
    "What country has the maximum % Renewable and what is the percentage?\n",
    "\n",
    "This function should return a tuple with the name of the country and the percentage.\n",
    "'''\n",
    "\n",
    "def answer_six():\n",
    "    Top15 = answer_one()\n",
    "    maxNum=np.max(Top15['% Renewable'])\n",
    "    maxCountry=Top15[Top15['% Renewable']==maxNum].iloc[0].name\n",
    "    ans=(maxCountry,maxNum)\n",
    "    return ans\n",
    "answer_six()"
   ]
  }
 ],
 "metadata": {
  "kernelspec": {
   "display_name": "Python 3",
   "language": "python",
   "name": "python3"
  },
  "language_info": {
   "codemirror_mode": {
    "name": "ipython",
    "version": 3
   },
   "file_extension": ".py",
   "mimetype": "text/x-python",
   "name": "python",
   "nbconvert_exporter": "python",
   "pygments_lexer": "ipython3",
   "version": "3.7.1"
  }
 },
 "nbformat": 4,
 "nbformat_minor": 2
}
