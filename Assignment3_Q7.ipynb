{
 "cells": [
  {
   "cell_type": "code",
   "execution_count": null,
   "metadata": {},
   "outputs": [],
   "source": [
    "'''\n",
    "Question 7\n",
    "Create a new column that is the ratio of Self-Citations to Total Citations. What is the maximum value for this new column, and what country has the highest ratio?\n",
    "\n",
    "This function should return a tuple with the name of the country and the ratio.\n",
    "'''\n",
    "\n",
    "def ratio(row):    \n",
    "    row['Self-Citations to Total Citations']=row['Self-citations']/row['Citations']\n",
    "    return row\n",
    "\n",
    "def answer_seven():\n",
    "    Top15 = answer_one()\n",
    "    df=Top15.apply(ratio,axis=1)\n",
    "    maxNum=np.max(df['Self-Citations to Total Citations'])\n",
    "    maxCountry=df[df['Self-Citations to Total Citations']==maxNum].iloc[0].name\n",
    "    ans=(maxCountry,maxNum)\n",
    "    return ans\n",
    "answer_seven()"
   ]
  }
 ],
 "metadata": {
  "kernelspec": {
   "display_name": "Python 3",
   "language": "python",
   "name": "python3"
  },
  "language_info": {
   "codemirror_mode": {
    "name": "ipython",
    "version": 3
   },
   "file_extension": ".py",
   "mimetype": "text/x-python",
   "name": "python",
   "nbconvert_exporter": "python",
   "pygments_lexer": "ipython3",
   "version": "3.7.1"
  }
 },
 "nbformat": 4,
 "nbformat_minor": 2
}
