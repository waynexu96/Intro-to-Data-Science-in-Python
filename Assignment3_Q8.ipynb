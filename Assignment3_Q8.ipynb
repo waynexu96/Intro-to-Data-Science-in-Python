{
 "cells": [
  {
   "cell_type": "code",
   "execution_count": null,
   "metadata": {},
   "outputs": [],
   "source": [
    "'''\n",
    "Question 8\n",
    "Create a column that estimates the population using Energy Supply and Energy Supply per capita. What is the third most populous country according to this estimate?\n",
    "\n",
    "This function should return a single string value.\n",
    "'''\n",
    "\n",
    "def answer_eight():\n",
    "    Top15 = answer_one()\n",
    "    Top15['population']=Top15['Energy Supply']/Top15['Energy Supply per Capita']\n",
    "    ans=Top15.sort_values('population',ascending=False)\n",
    "    country3=ans.index.values[2]\n",
    "    return country3\n",
    "answer_eight()"
   ]
  }
 ],
 "metadata": {
  "kernelspec": {
   "display_name": "Python 3",
   "language": "python",
   "name": "python3"
  },
  "language_info": {
   "codemirror_mode": {
    "name": "ipython",
    "version": 3
   },
   "file_extension": ".py",
   "mimetype": "text/x-python",
   "name": "python",
   "nbconvert_exporter": "python",
   "pygments_lexer": "ipython3",
   "version": "3.7.1"
  }
 },
 "nbformat": 4,
 "nbformat_minor": 2
}
