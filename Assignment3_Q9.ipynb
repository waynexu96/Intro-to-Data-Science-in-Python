{
 "cells": [
  {
   "cell_type": "code",
   "execution_count": null,
   "metadata": {},
   "outputs": [],
   "source": [
    "'''\n",
    "Question 9\n",
    "Create a column that estimates the number of citable documents per person. What is the correlation between the number of citable documents per capita and the energy supply per capita? Use the .corr() method, (Pearson's correlation).\n",
    "\n",
    "This function should return a single number.\n",
    "\n",
    "(Optional: Use the built-in function plot9() to visualize the relationship between Energy Supply per Capita vs. Citable docs per Capita)\n",
    "'''\n",
    "\n",
    "def answer_nine():\n",
    "    Top15['population']=Top15['Energy Supply']/Top15['Energy Supply per Capita']\n",
    "    Top15['citable documents per person']=Top15['Citable documents']/Top15['population']\n",
    "    df=Top15[['citable documents per person','Energy Supply per Capita']]\n",
    "    ans=df.corr(method='pearson')\n",
    "    return ans.loc['citable documents per person','Energy Supply per Capita']\n",
    "answer_nine()"
   ]
  }
 ],
 "metadata": {
  "kernelspec": {
   "display_name": "Python 3",
   "language": "python",
   "name": "python3"
  },
  "language_info": {
   "codemirror_mode": {
    "name": "ipython",
    "version": 3
   },
   "file_extension": ".py",
   "mimetype": "text/x-python",
   "name": "python",
   "nbconvert_exporter": "python",
   "pygments_lexer": "ipython3",
   "version": "3.7.1"
  }
 },
 "nbformat": 4,
 "nbformat_minor": 2
}
