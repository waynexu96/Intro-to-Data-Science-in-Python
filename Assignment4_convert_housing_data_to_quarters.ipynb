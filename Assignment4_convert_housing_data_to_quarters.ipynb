{
 "cells": [
  {
   "cell_type": "code",
   "execution_count": null,
   "metadata": {},
   "outputs": [],
   "source": [
    "def convert_housing_data_to_quarters():\n",
    "    '''Converts the housing data to quarters and returns it as mean \n",
    "    values in a dataframe. This dataframe should be a dataframe with\n",
    "    columns for 2000q1 through 2016q3, and should have a multi-index\n",
    "    in the shape of [\"State\",\"RegionName\"].\n",
    "    \n",
    "    Note: Quarters are defined in the assignment description, they are\n",
    "    not arbitrary three month periods.\n",
    "    \n",
    "    The resulting dataframe should have 67 columns, and 10,730 rows.\n",
    "    '''\n",
    "    df=pd.read_csv('City_Zhvi_AllHomes.csv')\n",
    "    df=df.drop(['RegionID','Metro','CountyName','SizeRank'],axis=1)\n",
    "    df=df.replace({'State':states})\n",
    "    df=df.replace('NaN',np.nan)\n",
    "    df=df.set_index(['State','RegionName'])\n",
    "    df=df.drop(df.columns[:45],axis=1)\n",
    "    for date in df.columns:\n",
    "        year=date.split('-')[0]\n",
    "        month=int(date.split('-')[1])\n",
    "        if month<=3:\n",
    "            month=1\n",
    "        elif month <=6:\n",
    "            month=2\n",
    "        elif month <=9:\n",
    "            month=3\n",
    "        else: month=4\n",
    "        df=df.rename(columns={date:(year+'q'+str(month))})\n",
    "\n",
    "    df=df.groupby(by=df.columns, axis=1).mean()\n",
    "    return df\n",
    "\n",
    "convert_housing_data_to_quarters()"
   ]
  }
 ],
 "metadata": {
  "kernelspec": {
   "display_name": "Python 3",
   "language": "python",
   "name": "python3"
  },
  "language_info": {
   "codemirror_mode": {
    "name": "ipython",
    "version": 3
   },
   "file_extension": ".py",
   "mimetype": "text/x-python",
   "name": "python",
   "nbconvert_exporter": "python",
   "pygments_lexer": "ipython3",
   "version": "3.7.1"
  }
 },
 "nbformat": 4,
 "nbformat_minor": 2
}
