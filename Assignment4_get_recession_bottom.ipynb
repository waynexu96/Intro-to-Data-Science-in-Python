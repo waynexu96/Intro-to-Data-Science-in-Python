{
 "cells": [
  {
   "cell_type": "code",
   "execution_count": null,
   "metadata": {},
   "outputs": [],
   "source": [
    "def get_recession_bottom():\n",
    "    '''Returns the year and quarter of the recession bottom time as a \n",
    "    string value in a format such as 2005q3'''\n",
    "    start=get_recession_start()\n",
    "    end=get_recession_end()\n",
    "    gdpdata=pd.read_excel('gdplev.xls')\n",
    "    gdpdata=gdpdata.iloc[219:285,[4,6]]\n",
    "    gdpdata=gdpdata.rename(columns={'Unnamed: 4':'Quarters','Unnamed: 6':'GDP'})\n",
    "    gdpdata=gdpdata.reset_index()\n",
    "    startindex=int(gdpdata[gdpdata['Quarters']==start].index.values)\n",
    "    endindex=int(gdpdata[gdpdata['Quarters']==end].index.values)\n",
    "    gdpdata=gdpdata.set_index('Quarters')\n",
    "    bottom=gdpdata[gdpdata['GDP']==np.min(gdpdata.iloc[startindex:endindex]['GDP'])].iloc[0].name    \n",
    "    return bottom\n",
    "\n",
    "get_recession_bottom()"
   ]
  }
 ],
 "metadata": {
  "kernelspec": {
   "display_name": "Python 3",
   "language": "python",
   "name": "python3"
  },
  "language_info": {
   "codemirror_mode": {
    "name": "ipython",
    "version": 3
   },
   "file_extension": ".py",
   "mimetype": "text/x-python",
   "name": "python",
   "nbconvert_exporter": "python",
   "pygments_lexer": "ipython3",
   "version": "3.7.1"
  }
 },
 "nbformat": 4,
 "nbformat_minor": 2
}
