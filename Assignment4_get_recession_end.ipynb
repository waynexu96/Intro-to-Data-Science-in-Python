{
 "cells": [
  {
   "cell_type": "code",
   "execution_count": null,
   "metadata": {},
   "outputs": [],
   "source": [
    "def get_recession_end():\n",
    "    '''Returns the year and quarter of the recession end time as a \n",
    "    string value in a format such as 2005q3'''\n",
    "    start=get_recession_start()\n",
    "    gdpdata=pd.read_excel('gdplev.xls')\n",
    "    gdpdata=gdpdata.iloc[219:285,[4,6]]\n",
    "    gdpdata=gdpdata.rename(columns={'Unnamed: 4':'Quarters','Unnamed: 6':'GDP'})\n",
    "    gdpdata=gdpdata.reset_index()\n",
    "    startindex=int(gdpdata[gdpdata['Quarters']==start].index.values)\n",
    "    gdpdata=gdpdata.set_index('Quarters')\n",
    "    for i in range(startindex+2,len(gdpdata)):\n",
    "        if ((gdpdata.iloc[i]['GDP']>gdpdata.iloc[i-1]['GDP'])&(gdpdata.iloc[i-1]['GDP']>gdpdata.iloc[i-2]['GDP'])):\n",
    "            return gdpdata.iloc[i].name\n",
    "    return None\n",
    "\n",
    "get_recession_end()"
   ]
  }
 ],
 "metadata": {
  "kernelspec": {
   "display_name": "Python 3",
   "language": "python",
   "name": "python3"
  },
  "language_info": {
   "codemirror_mode": {
    "name": "ipython",
    "version": 3
   },
   "file_extension": ".py",
   "mimetype": "text/x-python",
   "name": "python",
   "nbconvert_exporter": "python",
   "pygments_lexer": "ipython3",
   "version": "3.7.1"
  }
 },
 "nbformat": 4,
 "nbformat_minor": 2
}
