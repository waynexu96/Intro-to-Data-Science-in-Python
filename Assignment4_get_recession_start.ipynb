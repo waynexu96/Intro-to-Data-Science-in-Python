{
 "cells": [
  {
   "cell_type": "code",
   "execution_count": null,
   "metadata": {},
   "outputs": [],
   "source": [
    "def get_recession_start():\n",
    "    '''Returns the year and quarter of the recession start time as a \n",
    "    string value in a format such as 2005q3'''\n",
    "    gdpdata=pd.read_excel('gdplev.xls')\n",
    "    gdpdata=gdpdata.iloc[219:285,[4,6]]\n",
    "    gdpdata=gdpdata.rename(columns={'Unnamed: 4':'Quarters','Unnamed: 6':'GDP'})\n",
    "    gdpdata=gdpdata.set_index('Quarters')\n",
    "    for i in range(1,len(gdpdata)-1):\n",
    "        if ((gdpdata.iloc[i-1]['GDP']>gdpdata.iloc[i]['GDP'])&(gdpdata.iloc[i]['GDP']>gdpdata.iloc[i+1]['GDP'])):\n",
    "            return gdpdata.iloc[i].name\n",
    "    return None\n",
    "\n",
    "get_recession_start()"
   ]
  }
 ],
 "metadata": {
  "kernelspec": {
   "display_name": "Python 3",
   "language": "python",
   "name": "python3"
  },
  "language_info": {
   "codemirror_mode": {
    "name": "ipython",
    "version": 3
   },
   "file_extension": ".py",
   "mimetype": "text/x-python",
   "name": "python",
   "nbconvert_exporter": "python",
   "pygments_lexer": "ipython3",
   "version": "3.7.1"
  }
 },
 "nbformat": 4,
 "nbformat_minor": 2
}
