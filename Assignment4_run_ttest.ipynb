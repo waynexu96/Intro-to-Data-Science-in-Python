{
 "cells": [
  {
   "cell_type": "code",
   "execution_count": null,
   "metadata": {},
   "outputs": [],
   "source": [
    "def run_ttest():\n",
    "    '''First creates new data showing the decline or growth of housing prices\n",
    "    between the recession start and the recession bottom. Then runs a ttest\n",
    "    comparing the university town values to the non-university towns values, \n",
    "    return whether the alternative hypothesis (that the two groups are the same)\n",
    "    is true or not as well as the p-value of the confidence. \n",
    "    \n",
    "    Return the tuple (different, p, better) where different=True if the t-test is\n",
    "    True at a p<0.01 (we reject the null hypothesis), or different=False if \n",
    "    otherwise (we cannot reject the null hypothesis). The variable p should\n",
    "    be equal to the exact p value returned from scipy.stats.ttest_ind(). The\n",
    "    value for better should be either \"university town\" or \"non-university town\"\n",
    "    depending on which has a lower mean price ratio (which is equivilent to a\n",
    "    reduced market loss).'''\n",
    "    \n",
    "    housedata=convert_housing_data_to_quarters()\n",
    "    startdata=housedata[get_recession_start()]\n",
    "    bottomdata=housedata[get_recession_bottom()]\n",
    "    ratio=pd.DataFrame(startdata/bottomdata)\n",
    "    ratio=ratio.reset_index()\n",
    "    ut=get_list_of_university_towns()\n",
    "    utr=pd.merge(ut,ratio,how='inner',left_on=['State','RegionName'],right_on=['State','RegionName']).dropna()\n",
    "    nutr=pd.merge(ut,ratio,how='outer',left_on=['State','RegionName'],right_on=['State','RegionName']).dropna()\n",
    "    utr=utr.rename(columns={0:'ratio'})\n",
    "    nutr=nutr.rename(columns={0:'ratio'})\n",
    "\n",
    "    s,p=stats.ttest_ind(utr['ratio'],nutr['ratio'])\n",
    "    utr_mean=np.mean(utr['ratio'])\n",
    "    nutr_mean=np.mean(nutr['ratio'])\n",
    "\n",
    "    if p<0.01:\n",
    "        different=True\n",
    "    else:\n",
    "        different=False\n",
    "    \n",
    "    if utr_mean>nutr_mean:\n",
    "        better='non-university town'\n",
    "    else:\n",
    "        better='university town'\n",
    "\n",
    "    ans=(different,p,better)\n",
    "    return ans\n",
    "\n",
    "run_ttest()"
   ]
  }
 ],
 "metadata": {
  "kernelspec": {
   "display_name": "Python 3",
   "language": "python",
   "name": "python3"
  },
  "language_info": {
   "codemirror_mode": {
    "name": "ipython",
    "version": 3
   },
   "file_extension": ".py",
   "mimetype": "text/x-python",
   "name": "python",
   "nbconvert_exporter": "python",
   "pygments_lexer": "ipython3",
   "version": "3.7.1"
  }
 },
 "nbformat": 4,
 "nbformat_minor": 2
}
