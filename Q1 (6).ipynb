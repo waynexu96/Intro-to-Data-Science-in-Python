{
 "cells": [
  {
   "cell_type": "code",
   "execution_count": null,
   "metadata": {},
   "outputs": [],
   "source": [
    "def answer_six():\n",
    "    top3=census_df[census_df['SUMLEV']==50]\n",
    "    top3=top3.sort(['STNAME','CENSUS2010POP'],ascending=False)\n",
    "    top3=top3.groupby('STNAME').head(3)\n",
    "    top3=top3.groupby('STNAME').sum()\n",
    "    top3=top3.sort('CENSUS2010POP',ascending=False)\n",
    "    return list(top3.iloc[0:3].index)\n",
    "answer_six()"
   ]
  }
 ],
 "metadata": {
  "kernelspec": {
   "display_name": "Python 3",
   "language": "python",
   "name": "python3"
  },
  "language_info": {
   "codemirror_mode": {
    "name": "ipython",
    "version": 3
   },
   "file_extension": ".py",
   "mimetype": "text/x-python",
   "name": "python",
   "nbconvert_exporter": "python",
   "pygments_lexer": "ipython3",
   "version": "3.7.1"
  }
 },
 "nbformat": 4,
 "nbformat_minor": 2
}
