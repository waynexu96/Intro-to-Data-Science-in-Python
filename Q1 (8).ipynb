{
 "cells": [
  {
   "cell_type": "code",
   "execution_count": null,
   "metadata": {},
   "outputs": [],
   "source": [
    "def answer_eight():\n",
    "    r12=census_df[((census_df['REGION']==1)|(census_df['REGION']==2))&(census_df['POPESTIMATE2015']>census_df['POPESTIMATE2014'])]\n",
    "    r12=r12[r12['CTYNAME'].str.startswith('Washington')]\n",
    "    r12=r12.ix[:,['STNAME', 'CTYNAME']]\n",
    "    return r12\n",
    "answer_eight()"
   ]
  }
 ],
 "metadata": {
  "kernelspec": {
   "display_name": "Python 3",
   "language": "python",
   "name": "python3"
  },
  "language_info": {
   "codemirror_mode": {
    "name": "ipython",
    "version": 3
   },
   "file_extension": ".py",
   "mimetype": "text/x-python",
   "name": "python",
   "nbconvert_exporter": "python",
   "pygments_lexer": "ipython3",
   "version": "3.7.1"
  }
 },
 "nbformat": 4,
 "nbformat_minor": 2
}
